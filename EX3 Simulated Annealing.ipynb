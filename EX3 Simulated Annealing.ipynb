{
 "cells": [
  {
   "cell_type": "code",
   "execution_count": 2,
   "id": "607c7c6c",
   "metadata": {},
   "outputs": [
    {
     "name": "stdout",
     "output_type": "stream",
     "text": [
      "Starting simulated annealing algorithm\n",
      "\n",
      ">iteration 5: f([-0.71624542]) = 0.51301\n",
      ">iteration 7: f([-0.65250924]) = 0.42577\n",
      ">iteration 9: f([-0.47524847]) = 0.22586\n",
      ">iteration 11: f([-0.45712705]) = 0.20897\n",
      ">iteration 12: f([-0.40069256]) = 0.16055\n",
      ">iteration 14: f([-0.327695]) = 0.10738\n",
      ">iteration 15: f([-0.29039562]) = 0.08433\n",
      ">iteration 16: f([-0.23701453]) = 0.05618\n",
      ">iteration 18: f([-0.04563249]) = 0.00208\n",
      ">iteration 19: f([-0.01255278]) = 0.00016\n",
      ">iteration 25: f([0.00329871]) = 0.00001\n",
      ">iteration 32: f([-0.00295045]) = 0.00001\n",
      ">iteration 47: f([-0.00066185]) = 0.00000\n",
      ">iteration 79: f([0.00065104]) = 0.00000\n",
      ">iteration 251: f([0.00032916]) = 0.00000\n",
      ">iteration 440: f([-0.00030124]) = 0.00000\n",
      "\n",
      "Simulated annealing completed\n",
      "\n",
      "Best solution: [-0.00030124]\n",
      "Fitness score of the best solution: 0.00000\n"
     ]
    }
   ],
   "source": [
    "from numpy import exp\n",
    "from numpy.random import randn\n",
    "from numpy.random import rand\n",
    "from numpy.random import seed\n",
    "from numpy import asarray\n",
    "def objective(x):\n",
    "    return x[0]**2.0\n",
    "\n",
    "def simulated_annealing(objective, bounds, n_iterations, step_size, temp):\n",
    "    best = bounds[:, 0] + rand(len(bounds)) * (bounds[:, 1] - bounds[:, 0])\n",
    "    best_eval = objective(best)\n",
    "    curr, curr_eval = best, best_eval\n",
    "    for i in range(n_iterations):\n",
    "        candidate = curr + randn(len(bounds)) * step_size\n",
    "        candidate_eval = objective(candidate)\n",
    "        if candidate_eval < best_eval:\n",
    "            best, best_eval = candidate, candidate_eval\n",
    "            print('>iteration %d: f(%s) = %.5f' % (i, best, best_eval))\n",
    "            diff = candidate_eval - curr_eval\n",
    "            t = temp / float(i + 1)\n",
    "            metropolis = exp(-diff / t)\n",
    "            if diff < 0 or rand() < metropolis:\n",
    "                curr, curr_eval = candidate, candidate_eval\n",
    "    return [best, best_eval]\n",
    "    \n",
    "seed(1)\n",
    "bounds = asarray([[-5.0, 5.0]])\n",
    "n_iterations = 1000\n",
    "step_size = 0.1\n",
    "temp = 10\n",
    "\n",
    "print('Starting simulated annealing algorithm\\n')\n",
    "best, score = simulated_annealing(objective, bounds, n_iterations, step_size, \n",
    "temp)\n",
    "print('\\nSimulated annealing completed\\n')\n",
    "print(f'Best solution: {best}')\n",
    "print(f'Fitness score of the best solution: {score:.5f}')\n"
   ]
  },
  {
   "cell_type": "code",
   "execution_count": null,
   "id": "234a84fd",
   "metadata": {},
   "outputs": [],
   "source": []
  }
 ],
 "metadata": {
  "kernelspec": {
   "display_name": "Python 3 (ipykernel)",
   "language": "python",
   "name": "python3"
  },
  "language_info": {
   "codemirror_mode": {
    "name": "ipython",
    "version": 3
   },
   "file_extension": ".py",
   "mimetype": "text/x-python",
   "name": "python",
   "nbconvert_exporter": "python",
   "pygments_lexer": "ipython3",
   "version": "3.9.7"
  }
 },
 "nbformat": 4,
 "nbformat_minor": 5
}
